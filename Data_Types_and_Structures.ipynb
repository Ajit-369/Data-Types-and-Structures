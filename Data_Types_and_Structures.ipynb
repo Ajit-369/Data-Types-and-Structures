{
  "nbformat": 4,
  "nbformat_minor": 0,
  "metadata": {
    "colab": {
      "provenance": []
    },
    "kernelspec": {
      "name": "python3",
      "display_name": "Python 3"
    },
    "language_info": {
      "name": "python"
    }
  },
  "cells": [
    {
      "cell_type": "code",
      "execution_count": null,
      "metadata": {
        "id": "AZPfXmhjn_4d"
      },
      "outputs": [],
      "source": []
    },
    {
      "cell_type": "markdown",
      "source": [
        "1. What are data structures, and why are they important?\n",
        "- Data structures are special ways to store and organize data in a computer so that we can use it easily and efficiently.\n",
        " Why are they important?\n",
        " They help us store large amounts of data neatly.\n",
        "\n",
        " They make it easy to search, sort, and update data.\n",
        "\n",
        " They make programs run faster and smoother.\n",
        "\n",
        "2. Explain the difference between mutable and immutable data types with examples?\n",
        "- Mutable means changeable - you can change the data after creating it.\n",
        "\n",
        " Example: List\n",
        "\n",
        " my_list = [1, 2, 3]\n",
        "\n",
        " my_list[0] = 10   # Now my_list becomes [10, 2, 3]\n",
        "\n",
        " Immutable means unchangeable - once created, the data cannot be changed.\n",
        "\n",
        " Example: Tuple\n",
        "\n",
        " my_tuple = (1, 2, 3)\n",
        "\n",
        " my_tuple[0] = 10   #This will give an error\n",
        "\n",
        "3.  What are the main differences between lists and tuples in Python?\n",
        "- In Python, lists and tuples are both used to store a collection of items, but they have some important differences:\n",
        "\n",
        " Lists are mutable, which means you can change, add, or remove items after the list is created.\n",
        "\n",
        " Tuples are immutable, which means once a tuple is created, its elements cannot be changed.\n",
        "\n",
        " Lists are written using square brackets like [ ], while tuples are written using round brackets like ( ).\n",
        "\n",
        " Tuples are faster and use less memory than lists, so they are good for fixed data that should not change.\n",
        "\n",
        "4.  Describe how dictionaries store data?\n",
        "- In Python, a dictionary stores data in the form of key-value pairs.\n",
        "\n",
        " Each item has a key and a value.\n",
        "\n",
        " The key is used to find the value quickly.\n",
        "\n",
        " Dictionaries are written using curly braces {}.\n",
        "\n",
        " Example:\n",
        "\n",
        " student = {\n",
        "\n",
        "    \"name\": \"Ajit\",\n",
        "\n",
        "    \"age\": 20,\n",
        "\n",
        "    \"course\": \"Data Science\"\n",
        "  }\n",
        "\n",
        "  Here:\n",
        "\n",
        " \"name\" is a key, and \"Ajit\" is its value.\n",
        "\n",
        " \"age\" is a key, and 20 is its value.\n",
        "\n",
        " \"course\" is a key, and \"Data Science\" is its value.\n",
        "\n",
        "5. Why might you use a set instead of a list in Python?\n",
        "- You might use a set instead of a list when:\n",
        "\n",
        " You want to store only unique items\n",
        " - A set automatically removes duplicates.\n",
        " Example:\n",
        "\n",
        " my_set = {1, 2, 2, 3}\n",
        "\n",
        " print(my_set)  # Output: {1, 2, 3}\n",
        "\n",
        " You don’t care about the order of items\n",
        " – Sets do not keep order, unlike lists.\n",
        "\n",
        " Use a set when:\n",
        "\n",
        " You need unique values\n",
        "\n",
        " You don’t need the order\n",
        "\n",
        " You want faster checks\n",
        "\n",
        "6.  What is a string in Python, and how is it different from a list?\n",
        "- A string in Python is a sequence of characters (like letters, numbers, or symbols).\n",
        "It is written inside single or double quotes.\n",
        "\n",
        " A list, on the other hand, is a collection of items, which can be of any type like numbers, strings, or even other lists.\n",
        " Lists are written using square [] brackets.\n",
        "\n",
        " Main Differences:\n",
        "\n",
        " A string stores characters only.\n",
        " A list can store any type of data.\n",
        "\n",
        " A string is immutable – you cannot change its characters directly.\n",
        " A list is mutable – you can change, add, or remove items.\n",
        "\n",
        " Strings are used for text, while lists are used for collections of items.\n",
        "\n",
        "7. How do tuples ensure data integrity in Python?\n",
        "- In Python, tuples are immutable, which means once a tuple is created, its values cannot be changed, added, or removed.\n",
        "\n",
        "This helps ensure data integrity — meaning the data stays safe and unchanged.\n",
        "\n",
        " It prevents accidental changes in your data.\n",
        "\n",
        " Useful when you want to store fixed or constant information.\n",
        "\n",
        "8.  What is a hash table, and how does it relate to dictionaries in Python?\n",
        "- A hash table is a data structure that stores data using key-value pairs. It uses a process called hashing to quickly find values based on their keys.\n",
        "\n",
        " How It Relates to Dictionaries:\n",
        "In Python, a dictionary is built using a hash table.\n",
        "\n",
        "When you store something in a dictionary like this:\n",
        "\n",
        "  my_dict = {\"name\": \"John\"}\n",
        "  Python hashes the key \"name\" to find a place in memory to store the value \"John\".\n",
        "\n",
        "  When you try to access my_dict[\"name\"], Python uses the hash to quickly find the value.\n",
        "  A hash table is the behind-the-scenes structure.\n",
        "\n",
        "A dictionary is how we use it in Python.\n",
        "\n",
        "It allows for fast access, insertion, and searching using keys.\n",
        "\n",
        "9.  Can lists contain different data types in Python?\n",
        "- Yes.\n",
        "In Python, a list can hold items of different data types in the same collection.\n",
        "\n",
        " Example:\n",
        "\n",
        " mixed_list = [10, \"Hello\", 3.14, True]\n",
        "\n",
        " an integer (10)\n",
        "\n",
        " a string (\"Hello\")\n",
        "\n",
        " a float (3.14)\n",
        "\n",
        " a boolean (True)\n",
        "\n",
        "Because Python lists are dynamic and flexible, you can freely mix numbers, strings, other lists, dictionaries, or any custom objects in one list\n",
        "\n",
        "10.  Explain why strings are immutable in Python?\n",
        "- Strings in Python are immutable, which means you cannot change a string after it is created.\n",
        "\n",
        " Example:\n",
        "\n",
        " text = \"Hello\"\n",
        " text[0] = \"M\"   # This will give an error\n",
        "\n",
        "Why Are They Immutable?\n",
        "\n",
        " Safety: It prevents accidental changes to the text.\n",
        "\n",
        " Performance: Python can save memory and run faster when it knows strings won’t change.\n",
        "\n",
        " Hashing: Strings can be used as dictionary keys, and only immutable types can be hashed.\n",
        "\n",
        "11. What advantages do dictionaries offer over lists for certain tasks?\n",
        "- Dictionaries offer key-based access to data, which is faster and more organized for certain tasks.\n",
        "\n",
        " Main Advantages:\n",
        "\n",
        "Fast Lookups:\n",
        "You can quickly find a value using its key.\n",
        "\n",
        "Example:\n",
        "\n",
        "student = {\"name\": \"John\", \"age\": 20}\n",
        "print(student[\"name\"])  # Output: John\n",
        "\n",
        "More Meaningful Access:\n",
        "Keys like \"name\" or \"age\" make the data easier to understand, compared to list index numbers.\n",
        "\n",
        "Unordered & Flexible:\n",
        "You can store different types of values and access them in any order.\n",
        "\n",
        "No Need to Remember Positions:\n",
        "In lists, you need to remember positions (like list[0]), but in dictionaries, you use descriptive keys.\n",
        "\n",
        "12.  Describe a scenario where using a tuple would be preferable over a list?\n",
        "- Use a tuple when you want to store a fixed set of values that should not change.\n",
        "\n",
        " Example Scenario:\n",
        "Imagine you're storing the coordinates of a location on a map4\n",
        "\n",
        "location = (19.07, 72.87)  # latitude, longitude\n",
        "\n",
        "You use a tuple here because:\n",
        "\n",
        "The coordinates should not be changed accidentally.\n",
        "\n",
        "It shows that the data is fixed and constant.\n",
        "\n",
        "Use a tuple when you need to store constant, unchangeable data — for safety, clarity, and reliability.\n",
        "\n",
        "13. How do sets handle duplicate values in Python?\n",
        "- In Python, sets do not allow duplicate values.\n",
        "\n",
        " If you try to add the same value more than once, it will appear only once in the set.\n",
        "\n",
        "  Example:\n",
        "\n",
        "  my_set = {1, 2, 2, 3, 4, 4, 4}\n",
        "  print(my_set)\n",
        "\n",
        "  Output:{1, 2, 3, 4}\n",
        "\n",
        "  The repeated values 2 and 4 are automatically removed.\n",
        "\n",
        "14. How does the “in” keyword work differently for lists and dictionarie?\n",
        "- The in keyword is used to check if something exists — but it works differently for lists and dictionaries.\n",
        "\n",
        "  In a List:\n",
        "  It checks if the value is present.\n",
        "\n",
        "  my_list = [10, 20, 30]\n",
        "\n",
        "  print(20 in my_list)  # True (value exists)\n",
        "\n",
        "In a Dictionary:\n",
        "It checks if the key is present (not the value).\n",
        "\n",
        "my_dict = {\"name\": \"John\", \"age\": 25}\n",
        "\n",
        "print(\"name\" in my_dict)   # True (key exists)\n",
        "\n",
        "print(\"John\" in my_dict)   # False (value, not key)\n",
        "\n",
        "In lists: in checks for values.\n",
        "\n",
        "In dictionaries: in checks for keys.\n",
        "\n",
        "15.  Can you modify the elements of a tuple? Explain why or why not.\n",
        "- No, you cannot modify the elements of a tuple in Python.\n",
        "  Because tuples are immutable, which means once created, their elements cannot be changed, added, or removed.\n",
        "\n",
        "16.  What is a nested dictionary, and give an example of its use case?\n",
        "- A nested dictionary is a dictionary inside another dictionary.\n",
        "  EXAMPLE:\n",
        "\n",
        "  people = {\n",
        "\n",
        "    \"John\": {\"age\": 25, \"city\": \"New York\"},\n",
        "\n",
        "    \"Sara\": {\"age\": 30, \"city\": \"London\"}\n",
        "\n",
        "   }\n",
        "\n",
        "  In this example:\n",
        "\n",
        "  John and Sara are keys.\n",
        "\n",
        "  Their values are another dictionary with details like age and city.\n",
        "   A nested dictionary is useful for storing multiple pieces of data for each item in one place.\n",
        "\n",
        "17.  Describe the time complexity of accessing elements in a dictionary?\n",
        "- When you access an item in a dictionary using its key, it’s usually very fast!\n",
        "\n",
        "Average case: O(1), which means constant time.\n",
        "This means it doesn’t matter how many items are in the dictionary, the time to access an element stays the same.\n",
        "\n",
        "Worst case: O(n).\n",
        "In rare cases (like if the dictionary has many key collisions), accessing might take longer, but this is not common.\n",
        "\n",
        "Summary:\n",
        "Accessing items in a dictionary is usually very fast and takes constant time O(1).\n",
        "\n",
        "18. In what situations are lists preferred over dictionaries?\n",
        "- When the order matters:\n",
        "Lists maintain the order of items, so if you need to store things in a specific sequence, like numbers or names, lists are ideal.\n",
        "\n",
        "  Example: Storing a list of students in the order they enrolled.\n",
        "\n",
        " students = [\"John\", \"Sara\", \"Mike\"]\n",
        "\n",
        "  When you need to store similar types of data:\n",
        "Lists are good when you’re storing multiple values of the same type, like a series of numbers or names.\n",
        "\n",
        " Example: A list of ages.\n",
        "\n",
        " ages = [20, 25, 30]\n",
        "\n",
        " When you want to access elements by their index:\n",
        "Lists let you access elements using index positions (like the first, second, or third item). If you need to know the position of an item, lists are better.\n",
        "\n",
        " Example: Accessing the first element in a list.\n",
        "\n",
        " Print(students[0])  # John\n",
        "\n",
        " Use lists when:\n",
        "\n",
        " The order of items is important.\n",
        "\n",
        " You have a collection of similar items.\n",
        "\n",
        " You need to access elements by their position.\n",
        "\n",
        "19. Why are dictionaries considered unordered, and how does that affect data retrieval?\n",
        "- Dictionaries are considered unordered (in older Python versions) because they don’t store items in a fixed order.\n",
        "\n",
        " You get values using keys, not by position.\n",
        " You can't rely on the order of items like in a list.\n",
        "\n",
        "In Python 3.7+, they keep the order you add items, but it's still better to use lists if order is important.\n",
        "\n",
        "20.  Explain the difference between a list and a dictionary in terms of data retrieval.\n",
        "- List:\n",
        "\n",
        " Access data by position (index).\n",
        "\n",
        " Example: my_list[0]\n",
        "\n",
        "Dictionary:\n",
        "\n",
        "Access data by key (name).\n",
        "\n",
        "Example: my_dict[\"name\"]\n",
        "\n",
        " Use a list when order matters.\n",
        " Use a dictionary when you want to label each item with a key."
      ],
      "metadata": {
        "id": "Jb20K8i-oE6m"
      }
    },
    {
      "cell_type": "markdown",
      "source": [
        "# **Practical Questions**"
      ],
      "metadata": {
        "id": "5yPLDR3WGwjr"
      }
    },
    {
      "cell_type": "code",
      "source": [
        "#1.Write a code to create a string with your name and print it.\n",
        "name = \"Ajit\"\n",
        "print(name)"
      ],
      "metadata": {
        "colab": {
          "base_uri": "https://localhost:8080/"
        },
        "id": "xO6Y6iCZG90W",
        "outputId": "c137ab6a-527d-4e00-b758-34cab8369918"
      },
      "execution_count": 3,
      "outputs": [
        {
          "output_type": "stream",
          "name": "stdout",
          "text": [
            "Ajit\n"
          ]
        }
      ]
    },
    {
      "cell_type": "code",
      "source": [
        "#2.Write a code to find the length of the string \"Hello World\".\n",
        "text = \"Hello World\"\n",
        "print(len(text))"
      ],
      "metadata": {
        "colab": {
          "base_uri": "https://localhost:8080/"
        },
        "id": "BxJA7ZcDHeP2",
        "outputId": "58346335-8173-41bd-decc-1a304ea3064f"
      },
      "execution_count": 4,
      "outputs": [
        {
          "output_type": "stream",
          "name": "stdout",
          "text": [
            "11\n"
          ]
        }
      ]
    },
    {
      "cell_type": "code",
      "source": [
        "#3.Write a code to slice the first 3 characters from the string \"Python Programming\".\n",
        "text = \"Python Programming\"\n",
        "first_three = text[:3]\n",
        "print(first_three)"
      ],
      "metadata": {
        "colab": {
          "base_uri": "https://localhost:8080/"
        },
        "id": "l-INGTcbHp16",
        "outputId": "609adc48-a74e-4deb-b8cb-883ebc95c134"
      },
      "execution_count": 5,
      "outputs": [
        {
          "output_type": "stream",
          "name": "stdout",
          "text": [
            "Pyt\n"
          ]
        }
      ]
    },
    {
      "cell_type": "code",
      "source": [
        "#4. Write a code to convert the string \"hello\" to uppercase.\n",
        "text = \"hello\"\n",
        "print(text.upper())"
      ],
      "metadata": {
        "colab": {
          "base_uri": "https://localhost:8080/"
        },
        "id": "52Vq6Dv2H9zT",
        "outputId": "4a93fd43-f550-4b28-bcde-dba73660d3e8"
      },
      "execution_count": 6,
      "outputs": [
        {
          "output_type": "stream",
          "name": "stdout",
          "text": [
            "HELLO\n"
          ]
        }
      ]
    },
    {
      "cell_type": "code",
      "source": [
        "#5.Write a code to replace the word \"apple\" with \"orange\" in the string \"I like apple\"\n",
        "text = \"I like apple\"\n",
        "new_text = text.replace(\"apple\", \"orange\")\n",
        "print(new_text)"
      ],
      "metadata": {
        "colab": {
          "base_uri": "https://localhost:8080/"
        },
        "id": "X6vSNQfbIOO7",
        "outputId": "537f8621-40aa-4b35-a792-1df24ee6db72"
      },
      "execution_count": 7,
      "outputs": [
        {
          "output_type": "stream",
          "name": "stdout",
          "text": [
            "I like orange\n"
          ]
        }
      ]
    },
    {
      "cell_type": "code",
      "source": [
        "#6. Write a code to create a list with numbers 1 to 5 and print it\n",
        "numbers = [1, 2, 3, 4, 5]\n",
        "print(numbers)"
      ],
      "metadata": {
        "colab": {
          "base_uri": "https://localhost:8080/"
        },
        "id": "fmxpJqihIas8",
        "outputId": "4fd5c9ca-a108-4654-9b6e-6c4f9cf08775"
      },
      "execution_count": 8,
      "outputs": [
        {
          "output_type": "stream",
          "name": "stdout",
          "text": [
            "[1, 2, 3, 4, 5]\n"
          ]
        }
      ]
    },
    {
      "cell_type": "code",
      "source": [
        "#7.Write a code to append the number 10 to the list [1, 2, 3, 4]\n",
        "numbers = [1, 2, 3, 4]\n",
        "numbers.append(10)\n",
        "print(numbers)"
      ],
      "metadata": {
        "colab": {
          "base_uri": "https://localhost:8080/"
        },
        "id": "XMlQnxHFIn_0",
        "outputId": "89f580d4-bcf1-4b57-b8da-734d29e9a7ad"
      },
      "execution_count": 9,
      "outputs": [
        {
          "output_type": "stream",
          "name": "stdout",
          "text": [
            "[1, 2, 3, 4, 10]\n"
          ]
        }
      ]
    },
    {
      "cell_type": "code",
      "source": [
        "#8. Write a code to remove the number 3 from the list [1, 2, 3, 4, 5]\n",
        "numbers = [1, 2, 3, 4, 5]\n",
        "numbers.remove(3)\n",
        "print(numbers)"
      ],
      "metadata": {
        "colab": {
          "base_uri": "https://localhost:8080/"
        },
        "id": "FVJUDZ9nI1gD",
        "outputId": "eb0ae99f-e0c8-4dad-a15e-488a376e33b4"
      },
      "execution_count": 11,
      "outputs": [
        {
          "output_type": "stream",
          "name": "stdout",
          "text": [
            "[1, 2, 4, 5]\n"
          ]
        }
      ]
    },
    {
      "cell_type": "code",
      "source": [
        "#9. Write a code to access the second element in the list ['a', 'b', 'c', 'd']\n",
        "letters = ['a', 'b', 'c', 'd']\n",
        "print(letters[1])"
      ],
      "metadata": {
        "colab": {
          "base_uri": "https://localhost:8080/"
        },
        "id": "BBYyli4WI6vw",
        "outputId": "a6b09bf2-d4a2-4aa6-b149-a931fc9328fe"
      },
      "execution_count": 12,
      "outputs": [
        {
          "output_type": "stream",
          "name": "stdout",
          "text": [
            "b\n"
          ]
        }
      ]
    },
    {
      "cell_type": "code",
      "source": [
        "#10. Write a code to reverse the list [10, 20, 30, 40, 50].\n",
        "numbers = [10, 20, 30, 40, 50]\n",
        "numbers.reverse()\n",
        "print(numbers)"
      ],
      "metadata": {
        "colab": {
          "base_uri": "https://localhost:8080/"
        },
        "id": "EZOyxMq1JItQ",
        "outputId": "75805e52-a430-496a-986f-b5bbb6b2330f"
      },
      "execution_count": 13,
      "outputs": [
        {
          "output_type": "stream",
          "name": "stdout",
          "text": [
            "[50, 40, 30, 20, 10]\n"
          ]
        }
      ]
    },
    {
      "cell_type": "code",
      "source": [
        "#11.. Write a code to create a tuple with the elements 100, 200, 300 and print it.\n",
        "my_tuple = (100, 200, 300)\n",
        "print(my_tuple)"
      ],
      "metadata": {
        "colab": {
          "base_uri": "https://localhost:8080/"
        },
        "id": "-ggC3JNTJREc",
        "outputId": "2d2a7d77-b807-44ae-fe43-9730634c6d1a"
      },
      "execution_count": 14,
      "outputs": [
        {
          "output_type": "stream",
          "name": "stdout",
          "text": [
            "(100, 200, 300)\n"
          ]
        }
      ]
    },
    {
      "cell_type": "code",
      "source": [
        "#12. Write a code to access the second-to-last element of the tuple ('red', 'green', 'blue', 'yellow').\n",
        "colors = ('red', 'green', 'blue', 'yellow')\n",
        "print(colors[-2])"
      ],
      "metadata": {
        "colab": {
          "base_uri": "https://localhost:8080/"
        },
        "id": "MQMCq2erJeEi",
        "outputId": "8efeddaf-e759-46e8-c810-c66cae0878ae"
      },
      "execution_count": 15,
      "outputs": [
        {
          "output_type": "stream",
          "name": "stdout",
          "text": [
            "blue\n"
          ]
        }
      ]
    },
    {
      "cell_type": "code",
      "source": [
        "#13. Write a code to find the minimum number in the tuple (10, 20, 5, 15).\n",
        "numbers = (10, 20, 5, 15)\n",
        "print(min(numbers))"
      ],
      "metadata": {
        "colab": {
          "base_uri": "https://localhost:8080/"
        },
        "id": "hX3na0O3Jq4B",
        "outputId": "a86d42bb-cdc8-494d-a0e8-5f666b2bc325"
      },
      "execution_count": 16,
      "outputs": [
        {
          "output_type": "stream",
          "name": "stdout",
          "text": [
            "5\n"
          ]
        }
      ]
    },
    {
      "cell_type": "code",
      "source": [
        "#14. Write a code to find the index of the element \"cat\" in the tuple ('dog', 'cat', 'rabbit').\n",
        "animals = ('dog', 'cat', 'rabbit')\n",
        "print(animals.index('cat'))"
      ],
      "metadata": {
        "colab": {
          "base_uri": "https://localhost:8080/"
        },
        "id": "zctM3ZQOKEY9",
        "outputId": "a143a897-9832-41e4-9363-fd3818407855"
      },
      "execution_count": 17,
      "outputs": [
        {
          "output_type": "stream",
          "name": "stdout",
          "text": [
            "1\n"
          ]
        }
      ]
    },
    {
      "cell_type": "code",
      "source": [
        "#15. Write a code to create a tuple containing three different fruits and check if \"kiwi\" is in it.\n",
        "fruits = ('apple', 'banana', 'cherry')\n",
        "print('kiwi' in fruits)"
      ],
      "metadata": {
        "colab": {
          "base_uri": "https://localhost:8080/"
        },
        "id": "gux7a9fEKNct",
        "outputId": "7ebbe40a-3d8f-472b-a6e1-7f1cc3bbbe13"
      },
      "execution_count": 18,
      "outputs": [
        {
          "output_type": "stream",
          "name": "stdout",
          "text": [
            "False\n"
          ]
        }
      ]
    },
    {
      "cell_type": "code",
      "source": [
        "#16. Write a code to create a set with the elements 'a', 'b', 'c' and print it.\n",
        "my_set = {'a', 'b', 'c'}\n",
        "print(my_set)"
      ],
      "metadata": {
        "colab": {
          "base_uri": "https://localhost:8080/"
        },
        "id": "F1Te8C7yKX3U",
        "outputId": "d4be9477-f481-45cc-c746-e7dfcb6a73ff"
      },
      "execution_count": 20,
      "outputs": [
        {
          "output_type": "stream",
          "name": "stdout",
          "text": [
            "{'b', 'c', 'a'}\n"
          ]
        }
      ]
    },
    {
      "cell_type": "code",
      "source": [
        "#17. Write a code to clear all elements from the set {1, 2, 3, 4, 5}.\n",
        "my_set = {1, 2, 3, 4, 5}\n",
        "my_set.clear()\n",
        "print(my_set)"
      ],
      "metadata": {
        "colab": {
          "base_uri": "https://localhost:8080/"
        },
        "id": "VAkkwnYmKmNd",
        "outputId": "7a2d758b-25e0-49e0-8d5b-fc81c828cb9a"
      },
      "execution_count": 21,
      "outputs": [
        {
          "output_type": "stream",
          "name": "stdout",
          "text": [
            "set()\n"
          ]
        }
      ]
    },
    {
      "cell_type": "code",
      "source": [
        "#18. Write a code to remove the element 4 from the set {1, 2, 3, 4}.\n",
        "my_set = {1, 2, 3, 4}\n",
        "my_set.remove(4)\n",
        "print(my_set)"
      ],
      "metadata": {
        "colab": {
          "base_uri": "https://localhost:8080/"
        },
        "id": "XYhcvKztK9lX",
        "outputId": "43a8ded1-df81-49a4-f475-4da621cc2c10"
      },
      "execution_count": 22,
      "outputs": [
        {
          "output_type": "stream",
          "name": "stdout",
          "text": [
            "{1, 2, 3}\n"
          ]
        }
      ]
    },
    {
      "cell_type": "code",
      "source": [
        "#19.Write a code to find the union of two sets {1, 2, 3} and {3, 4, 5}.\n",
        "set1 = {1, 2, 3}\n",
        "set2 = {3, 4, 5}\n",
        "union_set = set1.union(set2)\n",
        "print(union_set)"
      ],
      "metadata": {
        "colab": {
          "base_uri": "https://localhost:8080/"
        },
        "id": "0nEnBmR3LHFE",
        "outputId": "73a48114-d252-46d2-f75e-9a822970dbbf"
      },
      "execution_count": 23,
      "outputs": [
        {
          "output_type": "stream",
          "name": "stdout",
          "text": [
            "{1, 2, 3, 4, 5}\n"
          ]
        }
      ]
    },
    {
      "cell_type": "code",
      "source": [
        "#20.Write a code to find the intersection of two sets {1, 2, 3} and {2, 3, 4}.\n",
        "set1 = {1, 2, 3}\n",
        "set2 = {2, 3, 4}\n",
        "intersection_set = set1.intersection(set2)\n",
        "print(intersection_set)"
      ],
      "metadata": {
        "colab": {
          "base_uri": "https://localhost:8080/"
        },
        "id": "hUwvdjzbLVPb",
        "outputId": "ec147473-15f5-4962-f33c-1bea0d7e1e90"
      },
      "execution_count": 24,
      "outputs": [
        {
          "output_type": "stream",
          "name": "stdout",
          "text": [
            "{2, 3}\n"
          ]
        }
      ]
    },
    {
      "cell_type": "code",
      "source": [
        "#21. Write a code to create a dictionary with the keys \"name\", \"age\", and \"city\", and print it.\n",
        "my_dict = {\"name\": \"Ajit\", \"age\": 22, \"city\": \"Navi mumbai\"}\n",
        "print(my_dict)"
      ],
      "metadata": {
        "colab": {
          "base_uri": "https://localhost:8080/"
        },
        "id": "mBFHS_iRLgcq",
        "outputId": "a4bf9eed-09ab-4aff-f8ea-8385f4320440"
      },
      "execution_count": 25,
      "outputs": [
        {
          "output_type": "stream",
          "name": "stdout",
          "text": [
            "{'name': 'Ajit', 'age': 22, 'city': 'Navi mumbai'}\n"
          ]
        }
      ]
    },
    {
      "cell_type": "code",
      "source": [
        "#22.Write a code to add a new key-value pair \"country\": \"USA\" to the dictionary {'name': 'John', 'age': 25}\n",
        "my_dict = {'name': 'John', 'age': 25}\n",
        "my_dict['country'] = 'USA'\n",
        "print(my_dict)"
      ],
      "metadata": {
        "colab": {
          "base_uri": "https://localhost:8080/"
        },
        "id": "OcJ51FZOLvyj",
        "outputId": "2be97758-9094-4cf4-ee4e-2409ddaa6b44"
      },
      "execution_count": 26,
      "outputs": [
        {
          "output_type": "stream",
          "name": "stdout",
          "text": [
            "{'name': 'John', 'age': 25, 'country': 'USA'}\n"
          ]
        }
      ]
    },
    {
      "cell_type": "code",
      "source": [
        "#23.Write a code to access the value associated with the key \"name\" in the dictionary {'name': 'Alice', 'age': 30}.\n",
        "my_dict = {'name': 'Alice', 'age': 30}\n",
        "print(my_dict['name'])"
      ],
      "metadata": {
        "colab": {
          "base_uri": "https://localhost:8080/"
        },
        "id": "M5VvtveGMK5p",
        "outputId": "2a39be2c-b832-4382-f879-6ca82e4862c8"
      },
      "execution_count": 27,
      "outputs": [
        {
          "output_type": "stream",
          "name": "stdout",
          "text": [
            "Alice\n"
          ]
        }
      ]
    },
    {
      "cell_type": "code",
      "source": [
        "#24.Write a code to remove the key \"age\" from the dictionary {'name': 'Bob', 'age': 22, 'city': 'New York'}.\n",
        "my_dict = {'name': 'Bob', 'age': 22, 'city': 'New York'}\n",
        "del my_dict['age']\n",
        "print(my_dict)"
      ],
      "metadata": {
        "colab": {
          "base_uri": "https://localhost:8080/"
        },
        "id": "gNDjLOwcMcC5",
        "outputId": "3ce7da6c-9b80-46b6-ad33-cf1bb776d838"
      },
      "execution_count": 28,
      "outputs": [
        {
          "output_type": "stream",
          "name": "stdout",
          "text": [
            "{'name': 'Bob', 'city': 'New York'}\n"
          ]
        }
      ]
    },
    {
      "cell_type": "code",
      "source": [
        "#25. Write a code to check if the key \"city\" exists in the dictionary {'name': 'Alice', 'city': 'Paris'}.\n",
        "my_dict = {'name': 'Alice', 'city': 'Paris'}\n",
        "if 'city' in my_dict:\n",
        "    print(\"Key 'city' exists in the dictionary.\")\n",
        "else:\n",
        "    print(\"Key 'city' does not exist in the dictionary.\")"
      ],
      "metadata": {
        "colab": {
          "base_uri": "https://localhost:8080/"
        },
        "id": "ZUGrRJYdMl2j",
        "outputId": "06a39102-2fb9-4778-8024-63b708e9e8fc"
      },
      "execution_count": 29,
      "outputs": [
        {
          "output_type": "stream",
          "name": "stdout",
          "text": [
            "Key 'city' exists in the dictionary.\n"
          ]
        }
      ]
    },
    {
      "cell_type": "code",
      "source": [
        "#26.Write a code to create a list, a tuple, and a dictionary, and print them all.\n",
        "# Create a list\n",
        "my_list = [1, 2, 3, 4, 5]\n",
        "\n",
        "# Create a tuple\n",
        "my_tuple = ('apple', 'banana', 'cherry')\n",
        "\n",
        "# Create a dictionary\n",
        "my_dict = {'name': 'John', 'age': 30, 'city': 'Delhi'}\n",
        "\n",
        "# Print them all\n",
        "print(\"List:\", my_list)\n",
        "print(\"Tuple:\", my_tuple)\n",
        "print(\"Dictionary:\", my_dict)"
      ],
      "metadata": {
        "colab": {
          "base_uri": "https://localhost:8080/"
        },
        "id": "uzYZXTNvM0bQ",
        "outputId": "9ff6eeab-fd62-42d7-845e-0cb622bddb1e"
      },
      "execution_count": 30,
      "outputs": [
        {
          "output_type": "stream",
          "name": "stdout",
          "text": [
            "List: [1, 2, 3, 4, 5]\n",
            "Tuple: ('apple', 'banana', 'cherry')\n",
            "Dictionary: {'name': 'John', 'age': 30, 'city': 'Delhi'}\n"
          ]
        }
      ]
    },
    {
      "cell_type": "code",
      "source": [
        "'''27.Write a code to create a list of 5 random numbers between 1 and 100, sort it in ascending order, and print the\n",
        "result.(replaced)'''\n",
        "import random\n",
        "# Create a list of 5 random numbers between 1 and 100\n",
        "random_numbers = random.sample(range(1, 101), 5)\n",
        "\n",
        "# Sort the list\n",
        "random_numbers.sort()\n",
        "\n",
        "# Print the sorted list\n",
        "print(\"Sorted random numbers:\", random_numbers)"
      ],
      "metadata": {
        "colab": {
          "base_uri": "https://localhost:8080/"
        },
        "id": "2cL83r5wNFbe",
        "outputId": "79c8fa68-8de3-4dee-acad-04d178070515"
      },
      "execution_count": 32,
      "outputs": [
        {
          "output_type": "stream",
          "name": "stdout",
          "text": [
            "Sorted random numbers: [37, 51, 76, 84, 93]\n"
          ]
        }
      ]
    },
    {
      "cell_type": "code",
      "source": [
        "#28.Write a code to create a list with strings and print the element at the third index.\n",
        "# Create a list of strings\n",
        "fruits = ['apple', 'banana', 'cherry', 'mango', 'orange']\n",
        "\n",
        "# Print the element at the third index (index starts from 0)\n",
        "print(\"Element at third index:\", fruits[3])"
      ],
      "metadata": {
        "colab": {
          "base_uri": "https://localhost:8080/"
        },
        "id": "ogTYF9fhNenS",
        "outputId": "9c03d7e4-0aac-4fa5-e4c5-7d90de51fdf0"
      },
      "execution_count": 33,
      "outputs": [
        {
          "output_type": "stream",
          "name": "stdout",
          "text": [
            "Element at third index: mango\n"
          ]
        }
      ]
    },
    {
      "cell_type": "code",
      "source": [
        "#29.Write a code to combine two dictionaries into one and print the result.\n",
        "# Two dictionaries\n",
        "dict1 = {'name': 'Alice', 'age': 25}\n",
        "dict2 = {'city': 'Paris', 'country': 'France'}\n",
        "\n",
        "# Combine the dictionaries\n",
        "combined_dict = {**dict1, **dict2}\n",
        "\n",
        "# Print the result\n",
        "print(\"Combined Dictionary:\", combined_dict)"
      ],
      "metadata": {
        "colab": {
          "base_uri": "https://localhost:8080/"
        },
        "id": "ZPPFf_keRthy",
        "outputId": "ba0e14f2-62b6-44c7-ab61-fb43db02f3af"
      },
      "execution_count": 34,
      "outputs": [
        {
          "output_type": "stream",
          "name": "stdout",
          "text": [
            "Combined Dictionary: {'name': 'Alice', 'age': 25, 'city': 'Paris', 'country': 'France'}\n"
          ]
        }
      ]
    },
    {
      "cell_type": "code",
      "source": [
        "#30.Write a code to convert a list of strings into a set\n",
        "# List of strings\n",
        "string_list = ['apple', 'banana', 'cherry', 'apple']\n",
        "\n",
        "# Convert to set\n",
        "string_set = set(string_list)\n",
        "\n",
        "# Print the result\n",
        "print(\"Set:\", string_set)"
      ],
      "metadata": {
        "colab": {
          "base_uri": "https://localhost:8080/"
        },
        "id": "El_lBasMSgDq",
        "outputId": "a438fd54-5b02-477e-a3ce-fd141a9fbfdf"
      },
      "execution_count": 35,
      "outputs": [
        {
          "output_type": "stream",
          "name": "stdout",
          "text": [
            "Set: {'apple', 'cherry', 'banana'}\n"
          ]
        }
      ]
    },
    {
      "cell_type": "code",
      "source": [],
      "metadata": {
        "id": "U_lqae_KS0RX"
      },
      "execution_count": null,
      "outputs": []
    }
  ]
}